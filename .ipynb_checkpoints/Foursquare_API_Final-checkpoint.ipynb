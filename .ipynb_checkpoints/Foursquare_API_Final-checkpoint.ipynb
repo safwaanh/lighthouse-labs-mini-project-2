{
 "cells": [
  {
   "cell_type": "code",
   "execution_count": 1,
   "metadata": {},
   "outputs": [],
   "source": [
    "client_id = \"B23NKMRLJ0HWOQQBKDEREME22SG2F4UENWJUS30PB34XCZYW\"\n",
    "client_secret = \"IS0F34JPRNNZFIPBA4AD1HB4PMOVESIOLGASTSD0E0DV05R0\""
   ]
  },
  {
   "cell_type": "code",
   "execution_count": 2,
   "metadata": {},
   "outputs": [],
   "source": [
    "import foursquare\n",
    "import requests"
   ]
  },
  {
   "cell_type": "code",
   "execution_count": 3,
   "metadata": {},
   "outputs": [],
   "source": [
    "client = client = foursquare.Foursquare(client_id=client_id, client_secret=client_secret)"
   ]
  },
  {
   "cell_type": "code",
   "execution_count": 135,
   "metadata": {},
   "outputs": [],
   "source": [
    "## client.venues('40a55d80f964a52020f31ee3')\n"
   ]
  },
  {
   "cell_type": "code",
   "execution_count": 136,
   "metadata": {},
   "outputs": [],
   "source": [
    "## client.venues.explore({'ll':'40.74224,-73.99386'})"
   ]
  },
  {
   "cell_type": "code",
   "execution_count": 7,
   "metadata": {},
   "outputs": [],
   "source": [
    "categories = client.venues.categories()"
   ]
  },
  {
   "cell_type": "code",
   "execution_count": 11,
   "metadata": {},
   "outputs": [],
   "source": [
    "import pandas as pd\n",
    "categories = pd.DataFrame(categories)"
   ]
  },
  {
   "cell_type": "code",
   "execution_count": 20,
   "metadata": {},
   "outputs": [],
   "source": [
    "categories = client.venues.categories()\n",
    "## categories['categories']"
   ]
  },
  {
   "cell_type": "code",
   "execution_count": 13,
   "metadata": {},
   "outputs": [],
   "source": [
    "nightlife_id = list(categories[categories['shortName'] == \"Nightlife\"]['id'])\n",
    "nightlife_id = nightlife_id[0]"
   ]
  },
  {
   "cell_type": "code",
   "execution_count": 14,
   "metadata": {},
   "outputs": [
    {
     "data": {
      "text/plain": [
       "'4d4b7105d754a06376d81259'"
      ]
     },
     "execution_count": 14,
     "metadata": {},
     "output_type": "execute_result"
    }
   ],
   "source": [
    "nightlife_id"
   ]
  },
  {
   "cell_type": "code",
   "execution_count": 15,
   "metadata": {},
   "outputs": [
    {
     "data": {
      "text/plain": [
       "'4d4b7105d754a06374d81259'"
      ]
     },
     "execution_count": 15,
     "metadata": {},
     "output_type": "execute_result"
    }
   ],
   "source": [
    "rest_id = list(categories[categories['shortName'] == 'Food']['id'])\n",
    "rest_id = rest_id[0]\n",
    "rest_id"
   ]
  },
  {
   "cell_type": "code",
   "execution_count": 17,
   "metadata": {},
   "outputs": [
    {
     "data": {
      "text/plain": [
       "False"
      ]
     },
     "execution_count": 17,
     "metadata": {},
     "output_type": "execute_result"
    }
   ],
   "source": [
    "rest_id in nightlife_id ## They look similar, but they're different"
   ]
  },
  {
   "cell_type": "code",
   "execution_count": 24,
   "metadata": {},
   "outputs": [],
   "source": [
    "## Getting nightlife venues near Toronto\n",
    "ll = '43.65479,-79.40263693'\n",
    "radius = '1000'\n",
    "limit = '50'\n",
    "\n",
    "bars = client.venues.explore({'ll':ll, 'radius':radius, 'limit':limit, 'categoryId': nightlife_id})\n",
    "\n",
    "\n"
   ]
  },
  {
   "cell_type": "code",
   "execution_count": 28,
   "metadata": {},
   "outputs": [
    {
     "data": {
      "text/plain": [
       "dict_keys(['suggestedFilters', 'headerLocation', 'headerFullLocation', 'headerLocationGranularity', 'query', 'totalResults', 'suggestedBounds', 'groups'])"
      ]
     },
     "execution_count": 28,
     "metadata": {},
     "output_type": "execute_result"
    }
   ],
   "source": [
    "bars.keys()"
   ]
  },
  {
   "cell_type": "code",
   "execution_count": 39,
   "metadata": {},
   "outputs": [
    {
     "data": {
      "text/plain": [
       "50"
      ]
     },
     "execution_count": 39,
     "metadata": {},
     "output_type": "execute_result"
    }
   ],
   "source": [
    "len(bars['groups'][0]['items']) ## this key contains all the results we need"
   ]
  },
  {
   "cell_type": "code",
   "execution_count": 46,
   "metadata": {},
   "outputs": [
    {
     "data": {
      "text/plain": [
       "dict_keys(['reasons', 'venue', 'referralId'])"
      ]
     },
     "execution_count": 46,
     "metadata": {},
     "output_type": "execute_result"
    }
   ],
   "source": [
    "bars['groups'][0]['items'][0].keys()"
   ]
  },
  {
   "cell_type": "code",
   "execution_count": 52,
   "metadata": {},
   "outputs": [
    {
     "data": {
      "text/plain": [
       "{'id': '4df2e93ad22d8c5470dc3b01',\n",
       " 'name': 'Poetry Jazz Cafe',\n",
       " 'location': {'address': '224 Augusta Ave.',\n",
       "  'lat': 43.654974536398164,\n",
       "  'lng': -79.40237067545584,\n",
       "  'labeledLatLngs': [{'label': 'display',\n",
       "    'lat': 43.654974536398164,\n",
       "    'lng': -79.40237067545584}],\n",
       "  'distance': 29,\n",
       "  'cc': 'CA',\n",
       "  'city': 'Toronto',\n",
       "  'state': 'ON',\n",
       "  'country': 'Canada',\n",
       "  'formattedAddress': ['224 Augusta Ave.', 'Toronto ON', 'Canada']},\n",
       " 'categories': [{'id': '4bf58dd8d48988d1e7931735',\n",
       "   'name': 'Jazz Club',\n",
       "   'pluralName': 'Jazz Clubs',\n",
       "   'shortName': 'Jazz Club',\n",
       "   'icon': {'prefix': 'https://ss3.4sqi.net/img/categories_v2/arts_entertainment/musicvenue_jazzclub_',\n",
       "    'suffix': '.png'},\n",
       "   'primary': True}],\n",
       " 'photos': {'count': 0, 'groups': []}}"
      ]
     },
     "execution_count": 52,
     "metadata": {},
     "output_type": "execute_result"
    }
   ],
   "source": [
    "bars['groups'][0]['items'][0]['venue'] ## This gives us an overview, but no ratings"
   ]
  },
  {
   "cell_type": "code",
   "execution_count": 55,
   "metadata": {},
   "outputs": [],
   "source": [
    "## retain venueID to use for details, but first compile the table\n",
    "\n",
    "venueid = []\n",
    "name = []\n",
    "lat = []\n",
    "long = []\n",
    "\n",
    "for i in range(len(bars['groups'][0]['items'])):\n",
    "    id_val = bars['groups'][0]['items'][i]['venue']['id']\n",
    "    name_val = bars['groups'][0]['items'][i]['venue']['name']\n",
    "    lat_val = bars['groups'][0]['items'][i]['venue']['location']['lat']\n",
    "    long_val = bars['groups'][0]['items'][i]['venue']['location']['lng']\n",
    "    \n",
    "    venueid.append(id_val)\n",
    "    name.append(name_val)\n",
    "    lat.append(lat_val)\n",
    "    long.append(long_val)"
   ]
  },
  {
   "cell_type": "code",
   "execution_count": 57,
   "metadata": {},
   "outputs": [],
   "source": [
    "bars_dict = {'id':venueid, 'name':name, 'lat':lat, 'long':long}\n",
    "bars_df = pd.DataFrame(bars_dict)"
   ]
  },
  {
   "cell_type": "code",
   "execution_count": 59,
   "metadata": {},
   "outputs": [
    {
     "data": {
      "text/html": [
       "<div>\n",
       "<style scoped>\n",
       "    .dataframe tbody tr th:only-of-type {\n",
       "        vertical-align: middle;\n",
       "    }\n",
       "\n",
       "    .dataframe tbody tr th {\n",
       "        vertical-align: top;\n",
       "    }\n",
       "\n",
       "    .dataframe thead th {\n",
       "        text-align: right;\n",
       "    }\n",
       "</style>\n",
       "<table border=\"1\" class=\"dataframe\">\n",
       "  <thead>\n",
       "    <tr style=\"text-align: right;\">\n",
       "      <th></th>\n",
       "      <th>id</th>\n",
       "      <th>name</th>\n",
       "      <th>lat</th>\n",
       "      <th>long</th>\n",
       "    </tr>\n",
       "  </thead>\n",
       "  <tbody>\n",
       "    <tr>\n",
       "      <th>0</th>\n",
       "      <td>4df2e93ad22d8c5470dc3b01</td>\n",
       "      <td>Poetry Jazz Cafe</td>\n",
       "      <td>43.654975</td>\n",
       "      <td>-79.402371</td>\n",
       "    </tr>\n",
       "    <tr>\n",
       "      <th>1</th>\n",
       "      <td>4e9a55b68231878c156f04bf</td>\n",
       "      <td>Cold Tea</td>\n",
       "      <td>43.654193</td>\n",
       "      <td>-79.401075</td>\n",
       "    </tr>\n",
       "    <tr>\n",
       "      <th>2</th>\n",
       "      <td>589bc46a739d8546efb5f2fd</td>\n",
       "      <td>Grey Gardens</td>\n",
       "      <td>43.653479</td>\n",
       "      <td>-79.401427</td>\n",
       "    </tr>\n",
       "    <tr>\n",
       "      <th>3</th>\n",
       "      <td>573cf7fb498ea0619b6c64dd</td>\n",
       "      <td>El Rey</td>\n",
       "      <td>43.652764</td>\n",
       "      <td>-79.400048</td>\n",
       "    </tr>\n",
       "    <tr>\n",
       "      <th>4</th>\n",
       "      <td>4f25a676e4b01b0c60b7f9c4</td>\n",
       "      <td>Thirsty and Miserable</td>\n",
       "      <td>43.654565</td>\n",
       "      <td>-79.401583</td>\n",
       "    </tr>\n",
       "  </tbody>\n",
       "</table>\n",
       "</div>"
      ],
      "text/plain": [
       "                         id                   name        lat       long\n",
       "0  4df2e93ad22d8c5470dc3b01       Poetry Jazz Cafe  43.654975 -79.402371\n",
       "1  4e9a55b68231878c156f04bf               Cold Tea  43.654193 -79.401075\n",
       "2  589bc46a739d8546efb5f2fd           Grey Gardens  43.653479 -79.401427\n",
       "3  573cf7fb498ea0619b6c64dd                 El Rey  43.652764 -79.400048\n",
       "4  4f25a676e4b01b0c60b7f9c4  Thirsty and Miserable  43.654565 -79.401583"
      ]
     },
     "execution_count": 59,
     "metadata": {},
     "output_type": "execute_result"
    }
   ],
   "source": [
    "bars_df.head()"
   ]
  },
  {
   "cell_type": "code",
   "execution_count": 60,
   "metadata": {},
   "outputs": [],
   "source": [
    "## To use later\n",
    "barids = venueid"
   ]
  },
  {
   "cell_type": "code",
   "execution_count": 62,
   "metadata": {},
   "outputs": [],
   "source": [
    "## Repeat process for restaurants\n",
    "ll = '43.65479,-79.40263693'\n",
    "radius = '1000'\n",
    "limit = '50'\n",
    "\n",
    "rests = client.venues.explore({'ll':ll, 'radius':radius, 'limit':limit, 'categoryId': rest_id})"
   ]
  },
  {
   "cell_type": "code",
   "execution_count": 63,
   "metadata": {},
   "outputs": [],
   "source": [
    "venueid = []\n",
    "name = []\n",
    "lat = []\n",
    "long = []\n",
    "\n",
    "for i in range(len(rests['groups'][0]['items'])):\n",
    "    id_val = rests['groups'][0]['items'][i]['venue']['id']\n",
    "    name_val = rests['groups'][0]['items'][i]['venue']['name']\n",
    "    lat_val = rests['groups'][0]['items'][i]['venue']['location']['lat']\n",
    "    long_val = rests['groups'][0]['items'][i]['venue']['location']['lng']\n",
    "    \n",
    "    venueid.append(id_val)\n",
    "    name.append(name_val)\n",
    "    lat.append(lat_val)\n",
    "    long.append(long_val)"
   ]
  },
  {
   "cell_type": "code",
   "execution_count": 64,
   "metadata": {},
   "outputs": [],
   "source": [
    "rests_dict = {'id':venueid, 'name':name, 'lat':lat, 'long':long}\n",
    "rests_df = pd.DataFrame(rests_dict)"
   ]
  },
  {
   "cell_type": "code",
   "execution_count": 65,
   "metadata": {},
   "outputs": [
    {
     "data": {
      "text/html": [
       "<div>\n",
       "<style scoped>\n",
       "    .dataframe tbody tr th:only-of-type {\n",
       "        vertical-align: middle;\n",
       "    }\n",
       "\n",
       "    .dataframe tbody tr th {\n",
       "        vertical-align: top;\n",
       "    }\n",
       "\n",
       "    .dataframe thead th {\n",
       "        text-align: right;\n",
       "    }\n",
       "</style>\n",
       "<table border=\"1\" class=\"dataframe\">\n",
       "  <thead>\n",
       "    <tr style=\"text-align: right;\">\n",
       "      <th></th>\n",
       "      <th>id</th>\n",
       "      <th>name</th>\n",
       "      <th>lat</th>\n",
       "      <th>long</th>\n",
       "    </tr>\n",
       "  </thead>\n",
       "  <tbody>\n",
       "    <tr>\n",
       "      <th>0</th>\n",
       "      <td>50427a03e4b08d9f5931f593</td>\n",
       "      <td>Seven Lives - Tacos y Mariscos</td>\n",
       "      <td>43.654418</td>\n",
       "      <td>-79.400545</td>\n",
       "    </tr>\n",
       "    <tr>\n",
       "      <th>1</th>\n",
       "      <td>4a8d5b48f964a520840f20e3</td>\n",
       "      <td>The Moonbean Cafe</td>\n",
       "      <td>43.654147</td>\n",
       "      <td>-79.400182</td>\n",
       "    </tr>\n",
       "    <tr>\n",
       "      <th>2</th>\n",
       "      <td>535163cf498ea10a3b9582b5</td>\n",
       "      <td>Blackbird Baking Co</td>\n",
       "      <td>43.654764</td>\n",
       "      <td>-79.400566</td>\n",
       "    </tr>\n",
       "    <tr>\n",
       "      <th>3</th>\n",
       "      <td>55820db4498e4abb523622bf</td>\n",
       "      <td>Otto's Berlin Döner</td>\n",
       "      <td>43.656387</td>\n",
       "      <td>-79.402788</td>\n",
       "    </tr>\n",
       "    <tr>\n",
       "      <th>4</th>\n",
       "      <td>4aedf32af964a52091d021e3</td>\n",
       "      <td>Golden Patty</td>\n",
       "      <td>43.654659</td>\n",
       "      <td>-79.401179</td>\n",
       "    </tr>\n",
       "  </tbody>\n",
       "</table>\n",
       "</div>"
      ],
      "text/plain": [
       "                         id                            name        lat  \\\n",
       "0  50427a03e4b08d9f5931f593  Seven Lives - Tacos y Mariscos  43.654418   \n",
       "1  4a8d5b48f964a520840f20e3               The Moonbean Cafe  43.654147   \n",
       "2  535163cf498ea10a3b9582b5             Blackbird Baking Co  43.654764   \n",
       "3  55820db4498e4abb523622bf             Otto's Berlin Döner  43.656387   \n",
       "4  4aedf32af964a52091d021e3                    Golden Patty  43.654659   \n",
       "\n",
       "        long  \n",
       "0 -79.400545  \n",
       "1 -79.400182  \n",
       "2 -79.400566  \n",
       "3 -79.402788  \n",
       "4 -79.401179  "
      ]
     },
     "execution_count": 65,
     "metadata": {},
     "output_type": "execute_result"
    }
   ],
   "source": [
    "rests_df.head()"
   ]
  },
  {
   "cell_type": "code",
   "execution_count": 66,
   "metadata": {},
   "outputs": [],
   "source": [
    "restids = venueid"
   ]
  },
  {
   "cell_type": "code",
   "execution_count": 67,
   "metadata": {},
   "outputs": [],
   "source": [
    "## Getting details on the venues\n",
    "\n",
    "## Test\n",
    "restid_sample = restids[:3]"
   ]
  },
  {
   "cell_type": "code",
   "execution_count": 69,
   "metadata": {},
   "outputs": [
    {
     "data": {
      "text/plain": [
       "'50427a03e4b08d9f5931f593'"
      ]
     },
     "execution_count": 69,
     "metadata": {},
     "output_type": "execute_result"
    }
   ],
   "source": [
    "restid_sample[0]"
   ]
  },
  {
   "cell_type": "code",
   "execution_count": 75,
   "metadata": {},
   "outputs": [],
   "source": [
    "likes = client.venues.likes(restid_sample[0])"
   ]
  },
  {
   "cell_type": "code",
   "execution_count": 76,
   "metadata": {},
   "outputs": [
    {
     "data": {
      "text/plain": [
       "302"
      ]
     },
     "execution_count": 76,
     "metadata": {},
     "output_type": "execute_result"
    }
   ],
   "source": [
    "likes['likes']['count']"
   ]
  },
  {
   "cell_type": "code",
   "execution_count": 77,
   "metadata": {},
   "outputs": [],
   "source": [
    "rest_likes = []\n",
    "\n",
    "for i in range(len(restids)):\n",
    "    venue_call = client.venues.likes(restids[i])\n",
    "    like_val = venue_call['likes']['count']\n",
    "    \n",
    "    rest_likes.append(like_val)"
   ]
  },
  {
   "cell_type": "code",
   "execution_count": 78,
   "metadata": {},
   "outputs": [
    {
     "data": {
      "text/plain": [
       "[302, 150, 62, 121, 28]"
      ]
     },
     "execution_count": 78,
     "metadata": {},
     "output_type": "execute_result"
    }
   ],
   "source": [
    "rest_likes[:5]"
   ]
  },
  {
   "cell_type": "code",
   "execution_count": 79,
   "metadata": {},
   "outputs": [],
   "source": [
    "rests_df['likes'] = rest_likes"
   ]
  },
  {
   "cell_type": "code",
   "execution_count": 81,
   "metadata": {},
   "outputs": [
    {
     "data": {
      "text/html": [
       "<div>\n",
       "<style scoped>\n",
       "    .dataframe tbody tr th:only-of-type {\n",
       "        vertical-align: middle;\n",
       "    }\n",
       "\n",
       "    .dataframe tbody tr th {\n",
       "        vertical-align: top;\n",
       "    }\n",
       "\n",
       "    .dataframe thead th {\n",
       "        text-align: right;\n",
       "    }\n",
       "</style>\n",
       "<table border=\"1\" class=\"dataframe\">\n",
       "  <thead>\n",
       "    <tr style=\"text-align: right;\">\n",
       "      <th></th>\n",
       "      <th>id</th>\n",
       "      <th>name</th>\n",
       "      <th>lat</th>\n",
       "      <th>long</th>\n",
       "      <th>likes</th>\n",
       "    </tr>\n",
       "  </thead>\n",
       "  <tbody>\n",
       "    <tr>\n",
       "      <th>0</th>\n",
       "      <td>50427a03e4b08d9f5931f593</td>\n",
       "      <td>Seven Lives - Tacos y Mariscos</td>\n",
       "      <td>43.654418</td>\n",
       "      <td>-79.400545</td>\n",
       "      <td>302</td>\n",
       "    </tr>\n",
       "    <tr>\n",
       "      <th>1</th>\n",
       "      <td>4a8d5b48f964a520840f20e3</td>\n",
       "      <td>The Moonbean Cafe</td>\n",
       "      <td>43.654147</td>\n",
       "      <td>-79.400182</td>\n",
       "      <td>150</td>\n",
       "    </tr>\n",
       "    <tr>\n",
       "      <th>2</th>\n",
       "      <td>535163cf498ea10a3b9582b5</td>\n",
       "      <td>Blackbird Baking Co</td>\n",
       "      <td>43.654764</td>\n",
       "      <td>-79.400566</td>\n",
       "      <td>62</td>\n",
       "    </tr>\n",
       "    <tr>\n",
       "      <th>3</th>\n",
       "      <td>55820db4498e4abb523622bf</td>\n",
       "      <td>Otto's Berlin Döner</td>\n",
       "      <td>43.656387</td>\n",
       "      <td>-79.402788</td>\n",
       "      <td>121</td>\n",
       "    </tr>\n",
       "    <tr>\n",
       "      <th>4</th>\n",
       "      <td>4aedf32af964a52091d021e3</td>\n",
       "      <td>Golden Patty</td>\n",
       "      <td>43.654659</td>\n",
       "      <td>-79.401179</td>\n",
       "      <td>28</td>\n",
       "    </tr>\n",
       "  </tbody>\n",
       "</table>\n",
       "</div>"
      ],
      "text/plain": [
       "                         id                            name        lat  \\\n",
       "0  50427a03e4b08d9f5931f593  Seven Lives - Tacos y Mariscos  43.654418   \n",
       "1  4a8d5b48f964a520840f20e3               The Moonbean Cafe  43.654147   \n",
       "2  535163cf498ea10a3b9582b5             Blackbird Baking Co  43.654764   \n",
       "3  55820db4498e4abb523622bf             Otto's Berlin Döner  43.656387   \n",
       "4  4aedf32af964a52091d021e3                    Golden Patty  43.654659   \n",
       "\n",
       "        long  likes  \n",
       "0 -79.400545    302  \n",
       "1 -79.400182    150  \n",
       "2 -79.400566     62  \n",
       "3 -79.402788    121  \n",
       "4 -79.401179     28  "
      ]
     },
     "execution_count": 81,
     "metadata": {},
     "output_type": "execute_result"
    }
   ],
   "source": [
    "rests_df.head()"
   ]
  },
  {
   "cell_type": "code",
   "execution_count": 82,
   "metadata": {},
   "outputs": [],
   "source": [
    "bar_likes = []\n",
    "\n",
    "for i in range(len(barids)):\n",
    "    venue_call = client.venues.likes(barids[i])\n",
    "    like_val = venue_call['likes']['count']\n",
    "    \n",
    "    bar_likes.append(like_val)"
   ]
  },
  {
   "cell_type": "code",
   "execution_count": 83,
   "metadata": {},
   "outputs": [
    {
     "data": {
      "text/plain": [
       "[28, 162, 39]"
      ]
     },
     "execution_count": 83,
     "metadata": {},
     "output_type": "execute_result"
    }
   ],
   "source": [
    "bar_likes[:3]"
   ]
  },
  {
   "cell_type": "code",
   "execution_count": 84,
   "metadata": {},
   "outputs": [],
   "source": [
    "bars_df['likes'] = bar_likes"
   ]
  },
  {
   "cell_type": "code",
   "execution_count": 85,
   "metadata": {},
   "outputs": [
    {
     "data": {
      "text/html": [
       "<div>\n",
       "<style scoped>\n",
       "    .dataframe tbody tr th:only-of-type {\n",
       "        vertical-align: middle;\n",
       "    }\n",
       "\n",
       "    .dataframe tbody tr th {\n",
       "        vertical-align: top;\n",
       "    }\n",
       "\n",
       "    .dataframe thead th {\n",
       "        text-align: right;\n",
       "    }\n",
       "</style>\n",
       "<table border=\"1\" class=\"dataframe\">\n",
       "  <thead>\n",
       "    <tr style=\"text-align: right;\">\n",
       "      <th></th>\n",
       "      <th>id</th>\n",
       "      <th>name</th>\n",
       "      <th>lat</th>\n",
       "      <th>long</th>\n",
       "      <th>likes</th>\n",
       "    </tr>\n",
       "  </thead>\n",
       "  <tbody>\n",
       "    <tr>\n",
       "      <th>0</th>\n",
       "      <td>4df2e93ad22d8c5470dc3b01</td>\n",
       "      <td>Poetry Jazz Cafe</td>\n",
       "      <td>43.654975</td>\n",
       "      <td>-79.402371</td>\n",
       "      <td>28</td>\n",
       "    </tr>\n",
       "    <tr>\n",
       "      <th>1</th>\n",
       "      <td>4e9a55b68231878c156f04bf</td>\n",
       "      <td>Cold Tea</td>\n",
       "      <td>43.654193</td>\n",
       "      <td>-79.401075</td>\n",
       "      <td>162</td>\n",
       "    </tr>\n",
       "    <tr>\n",
       "      <th>2</th>\n",
       "      <td>589bc46a739d8546efb5f2fd</td>\n",
       "      <td>Grey Gardens</td>\n",
       "      <td>43.653479</td>\n",
       "      <td>-79.401427</td>\n",
       "      <td>39</td>\n",
       "    </tr>\n",
       "    <tr>\n",
       "      <th>3</th>\n",
       "      <td>573cf7fb498ea0619b6c64dd</td>\n",
       "      <td>El Rey</td>\n",
       "      <td>43.652764</td>\n",
       "      <td>-79.400048</td>\n",
       "      <td>71</td>\n",
       "    </tr>\n",
       "    <tr>\n",
       "      <th>4</th>\n",
       "      <td>4f25a676e4b01b0c60b7f9c4</td>\n",
       "      <td>Thirsty and Miserable</td>\n",
       "      <td>43.654565</td>\n",
       "      <td>-79.401583</td>\n",
       "      <td>67</td>\n",
       "    </tr>\n",
       "  </tbody>\n",
       "</table>\n",
       "</div>"
      ],
      "text/plain": [
       "                         id                   name        lat       long  \\\n",
       "0  4df2e93ad22d8c5470dc3b01       Poetry Jazz Cafe  43.654975 -79.402371   \n",
       "1  4e9a55b68231878c156f04bf               Cold Tea  43.654193 -79.401075   \n",
       "2  589bc46a739d8546efb5f2fd           Grey Gardens  43.653479 -79.401427   \n",
       "3  573cf7fb498ea0619b6c64dd                 El Rey  43.652764 -79.400048   \n",
       "4  4f25a676e4b01b0c60b7f9c4  Thirsty and Miserable  43.654565 -79.401583   \n",
       "\n",
       "   likes  \n",
       "0     28  \n",
       "1    162  \n",
       "2     39  \n",
       "3     71  \n",
       "4     67  "
      ]
     },
     "execution_count": 85,
     "metadata": {},
     "output_type": "execute_result"
    }
   ],
   "source": [
    "bars_df.head()"
   ]
  },
  {
   "cell_type": "code",
   "execution_count": 137,
   "metadata": {},
   "outputs": [],
   "source": [
    "## Map visualization using Folium\n",
    "import folium\n",
    "\n",
    "map_to = folium.Map(location=[43.6537383,-79.4047757], zoom_start=15)\n",
    "for lat, long, bars in zip(bars_df['lat'], bars_df['long'], bars_df['name']):\n",
    "    label = '{}'.format(bars)\n",
    "    label = folium.Popup(label, parse_html=True)\n",
    "    folium.CircleMarker(\n",
    "        [lat, long],\n",
    "        radius=5,\n",
    "        popup=label,\n",
    "        color='blue',\n",
    "        fill=True,\n",
    "        fill_color='#3186cc',\n",
    "        fill_opacity=0.5,\n",
    "        parse_html=False).add_to(map_to)"
   ]
  },
  {
   "cell_type": "code",
   "execution_count": 138,
   "metadata": {},
   "outputs": [],
   "source": [
    "for lat, long, rests in zip(rests_df['lat'], rests_df['long'], rests_df['name']):\n",
    "    label = '{}'.format(rests)\n",
    "    label = folium.Popup(label, parse_html=True)\n",
    "    folium.CircleMarker(\n",
    "        [lat, long],\n",
    "        radius=5,\n",
    "        popup=label,\n",
    "        color='red',\n",
    "        fill=True,\n",
    "        fill_color='#cc4b31',\n",
    "        fill_opacity=0.5,\n",
    "        parse_html=False).add_to(map_to)  "
   ]
  },
  {
   "cell_type": "code",
   "execution_count": 139,
   "metadata": {},
   "outputs": [
    {
     "data": {
      "text/html": [
       "<div style=\"width:100%;\"><div style=\"position:relative;width:100%;height:0;padding-bottom:60%;\"><span style=\"color:#565656\">Make this Notebook Trusted to load map: File -> Trust Notebook</span><iframe src=\"about:blank\" style=\"position:absolute;width:100%;height:100%;left:0;top:0;border:none !important;\" data-html=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 onload=\"this.contentDocument.open();this.contentDocument.write(atob(this.getAttribute('data-html')));this.contentDocument.close();\" allowfullscreen webkitallowfullscreen mozallowfullscreen></iframe></div></div>"
      ],
      "text/plain": [
       "<folium.folium.Map at 0x26f10233cc8>"
      ]
     },
     "execution_count": 139,
     "metadata": {},
     "output_type": "execute_result"
    }
   ],
   "source": [
    "map_to"
   ]
  },
  {
   "cell_type": "code",
   "execution_count": 90,
   "metadata": {},
   "outputs": [],
   "source": [
    "POIs_df = bars_df.append(rests_df)"
   ]
  },
  {
   "cell_type": "code",
   "execution_count": 95,
   "metadata": {},
   "outputs": [],
   "source": [
    "POIs_df = POIs_df.sort_values('likes', ascending=False)"
   ]
  },
  {
   "cell_type": "code",
   "execution_count": 96,
   "metadata": {},
   "outputs": [
    {
     "data": {
      "text/html": [
       "<div>\n",
       "<style scoped>\n",
       "    .dataframe tbody tr th:only-of-type {\n",
       "        vertical-align: middle;\n",
       "    }\n",
       "\n",
       "    .dataframe tbody tr th {\n",
       "        vertical-align: top;\n",
       "    }\n",
       "\n",
       "    .dataframe thead th {\n",
       "        text-align: right;\n",
       "    }\n",
       "</style>\n",
       "<table border=\"1\" class=\"dataframe\">\n",
       "  <thead>\n",
       "    <tr style=\"text-align: right;\">\n",
       "      <th></th>\n",
       "      <th>id</th>\n",
       "      <th>name</th>\n",
       "      <th>lat</th>\n",
       "      <th>long</th>\n",
       "      <th>likes</th>\n",
       "    </tr>\n",
       "  </thead>\n",
       "  <tbody>\n",
       "    <tr>\n",
       "      <th>8</th>\n",
       "      <td>4ad4c05df964a5204cf620e3</td>\n",
       "      <td>Sneaky Dee's Restaurant &amp; Concert Venue</td>\n",
       "      <td>43.656349</td>\n",
       "      <td>-79.407646</td>\n",
       "      <td>407</td>\n",
       "    </tr>\n",
       "    <tr>\n",
       "      <th>0</th>\n",
       "      <td>50427a03e4b08d9f5931f593</td>\n",
       "      <td>Seven Lives - Tacos y Mariscos</td>\n",
       "      <td>43.654418</td>\n",
       "      <td>-79.400545</td>\n",
       "      <td>302</td>\n",
       "    </tr>\n",
       "    <tr>\n",
       "      <th>46</th>\n",
       "      <td>54e0dc87498ecbdb39a0fade</td>\n",
       "      <td>Bar Raval</td>\n",
       "      <td>43.655904</td>\n",
       "      <td>-79.410125</td>\n",
       "      <td>266</td>\n",
       "    </tr>\n",
       "    <tr>\n",
       "      <th>31</th>\n",
       "      <td>4ad4c05cf964a52007f620e3</td>\n",
       "      <td>Horseshoe Tavern</td>\n",
       "      <td>43.649339</td>\n",
       "      <td>-79.395976</td>\n",
       "      <td>223</td>\n",
       "    </tr>\n",
       "    <tr>\n",
       "      <th>9</th>\n",
       "      <td>51438b33e4b0a40e33fe5e77</td>\n",
       "      <td>Jimmy's Coffee</td>\n",
       "      <td>43.654493</td>\n",
       "      <td>-79.401311</td>\n",
       "      <td>200</td>\n",
       "    </tr>\n",
       "    <tr>\n",
       "      <th>...</th>\n",
       "      <td>...</td>\n",
       "      <td>...</td>\n",
       "      <td>...</td>\n",
       "      <td>...</td>\n",
       "      <td>...</td>\n",
       "    </tr>\n",
       "    <tr>\n",
       "      <th>46</th>\n",
       "      <td>4ad4c05df964a52076f620e3</td>\n",
       "      <td>El Rancho Restaurant &amp; Night Club</td>\n",
       "      <td>43.656673</td>\n",
       "      <td>-79.407101</td>\n",
       "      <td>6</td>\n",
       "    </tr>\n",
       "    <tr>\n",
       "      <th>35</th>\n",
       "      <td>4b7e02cbf964a520e1de2fe3</td>\n",
       "      <td>Wild Indigo</td>\n",
       "      <td>43.655090</td>\n",
       "      <td>-79.414315</td>\n",
       "      <td>5</td>\n",
       "    </tr>\n",
       "    <tr>\n",
       "      <th>42</th>\n",
       "      <td>4af63f31f964a520980222e3</td>\n",
       "      <td>Sotto Voce</td>\n",
       "      <td>43.655240</td>\n",
       "      <td>-79.413833</td>\n",
       "      <td>5</td>\n",
       "    </tr>\n",
       "    <tr>\n",
       "      <th>43</th>\n",
       "      <td>58c9c7b2084be5199d1557a7</td>\n",
       "      <td>Reverie At Weldon Park</td>\n",
       "      <td>43.655297</td>\n",
       "      <td>-79.412642</td>\n",
       "      <td>5</td>\n",
       "    </tr>\n",
       "    <tr>\n",
       "      <th>49</th>\n",
       "      <td>4cc773ea94e1a09319dc918b</td>\n",
       "      <td>Detour</td>\n",
       "      <td>43.654498</td>\n",
       "      <td>-79.401432</td>\n",
       "      <td>4</td>\n",
       "    </tr>\n",
       "  </tbody>\n",
       "</table>\n",
       "<p>100 rows × 5 columns</p>\n",
       "</div>"
      ],
      "text/plain": [
       "                          id                                     name  \\\n",
       "8   4ad4c05df964a5204cf620e3  Sneaky Dee's Restaurant & Concert Venue   \n",
       "0   50427a03e4b08d9f5931f593           Seven Lives - Tacos y Mariscos   \n",
       "46  54e0dc87498ecbdb39a0fade                                Bar Raval   \n",
       "31  4ad4c05cf964a52007f620e3                         Horseshoe Tavern   \n",
       "9   51438b33e4b0a40e33fe5e77                           Jimmy's Coffee   \n",
       "..                       ...                                      ...   \n",
       "46  4ad4c05df964a52076f620e3        El Rancho Restaurant & Night Club   \n",
       "35  4b7e02cbf964a520e1de2fe3                              Wild Indigo   \n",
       "42  4af63f31f964a520980222e3                               Sotto Voce   \n",
       "43  58c9c7b2084be5199d1557a7                   Reverie At Weldon Park   \n",
       "49  4cc773ea94e1a09319dc918b                                   Detour   \n",
       "\n",
       "          lat       long  likes  \n",
       "8   43.656349 -79.407646    407  \n",
       "0   43.654418 -79.400545    302  \n",
       "46  43.655904 -79.410125    266  \n",
       "31  43.649339 -79.395976    223  \n",
       "9   43.654493 -79.401311    200  \n",
       "..        ...        ...    ...  \n",
       "46  43.656673 -79.407101      6  \n",
       "35  43.655090 -79.414315      5  \n",
       "42  43.655240 -79.413833      5  \n",
       "43  43.655297 -79.412642      5  \n",
       "49  43.654498 -79.401432      4  \n",
       "\n",
       "[100 rows x 5 columns]"
      ]
     },
     "execution_count": 96,
     "metadata": {},
     "output_type": "execute_result"
    }
   ],
   "source": [
    "POIs_df"
   ]
  },
  {
   "cell_type": "code",
   "execution_count": 98,
   "metadata": {},
   "outputs": [],
   "source": [
    "import sqlite3\n",
    "conn = sqlite3.connect('mini_project_foursquare.db')\n",
    "c = conn.cursor()"
   ]
  },
  {
   "cell_type": "code",
   "execution_count": 100,
   "metadata": {},
   "outputs": [
    {
     "data": {
      "text/plain": [
       "<sqlite3.Cursor at 0x26f0fdac8f0>"
      ]
     },
     "execution_count": 100,
     "metadata": {},
     "output_type": "execute_result"
    }
   ],
   "source": [
    "c.execute(\"\"\"CREATE TABLE Foursquare_Overview (\n",
    "            id PRIMARY KEY,\n",
    "            name varchar(255),\n",
    "            lat decimal(18,2),\n",
    "            long decimal(18,2),\n",
    "            likes INT)\"\"\")"
   ]
  },
  {
   "cell_type": "code",
   "execution_count": 102,
   "metadata": {},
   "outputs": [],
   "source": [
    "POIs_df.to_sql('Foursquare_Overview', conn, if_exists='replace', index = False)"
   ]
  },
  {
   "cell_type": "code",
   "execution_count": 103,
   "metadata": {},
   "outputs": [
    {
     "name": "stdout",
     "output_type": "stream",
     "text": [
      "('4ad4c05df964a5204cf620e3', \"Sneaky Dee's Restaurant & Concert Venue\", 43.65634906243686, -79.40764590401695, 407)\n",
      "('50427a03e4b08d9f5931f593', 'Seven Lives - Tacos y Mariscos', 43.65441817160925, -79.40054467846261, 302)\n",
      "('54e0dc87498ecbdb39a0fade', 'Bar Raval', 43.65590380020168, -79.41012528837247, 266)\n",
      "('4ad4c05cf964a52007f620e3', 'Horseshoe Tavern', 43.6493390929762, -79.3959763512841, 223)\n",
      "('51438b33e4b0a40e33fe5e77', \"Jimmy's Coffee\", 43.65449315540114, -79.40131090393002, 200)\n",
      "('4d3e1a66457cb60c7ad5fda4', '416 Snack Bar', 43.64751101216232, -79.40401784574094, 187)\n",
      "('4ade61b9f964a520797521e3', 'Tequila Bookworm', 43.64769690944723, -79.40154896874483, 184)\n",
      "('52c5dd8d498e25dee9f19457', 'Isshin Ramen 一心', 43.65651655724417, -79.40694540739058, 179)\n",
      "('4e9a55b68231878c156f04bf', 'Cold Tea', 43.65419313416817, -79.40107491108753, 162)\n",
      "('4ad7bf71f964a5205b0e21e3', 'Sin and Redemption', 43.65466135819523, -79.39173728227614, 153)\n"
     ]
    }
   ],
   "source": [
    "c.execute(''' SELECT * FROM Foursquare_Overview LIMIT 10''')\n",
    "for row in c.fetchall():\n",
    "     print (row)"
   ]
  },
  {
   "cell_type": "code",
   "execution_count": 107,
   "metadata": {},
   "outputs": [
    {
     "data": {
      "text/plain": [
       "<sqlite3.Cursor at 0x26f0fdac8f0>"
      ]
     },
     "execution_count": 107,
     "metadata": {},
     "output_type": "execute_result"
    }
   ],
   "source": [
    "c.execute('DROP TABLE Foursquare_Overview')"
   ]
  },
  {
   "cell_type": "code",
   "execution_count": 108,
   "metadata": {},
   "outputs": [],
   "source": [
    "POIs_df = POIs_df.drop(\"id\", axis=1)"
   ]
  },
  {
   "cell_type": "code",
   "execution_count": 109,
   "metadata": {},
   "outputs": [
    {
     "data": {
      "text/html": [
       "<div>\n",
       "<style scoped>\n",
       "    .dataframe tbody tr th:only-of-type {\n",
       "        vertical-align: middle;\n",
       "    }\n",
       "\n",
       "    .dataframe tbody tr th {\n",
       "        vertical-align: top;\n",
       "    }\n",
       "\n",
       "    .dataframe thead th {\n",
       "        text-align: right;\n",
       "    }\n",
       "</style>\n",
       "<table border=\"1\" class=\"dataframe\">\n",
       "  <thead>\n",
       "    <tr style=\"text-align: right;\">\n",
       "      <th></th>\n",
       "      <th>name</th>\n",
       "      <th>lat</th>\n",
       "      <th>long</th>\n",
       "      <th>likes</th>\n",
       "    </tr>\n",
       "  </thead>\n",
       "  <tbody>\n",
       "    <tr>\n",
       "      <th>8</th>\n",
       "      <td>Sneaky Dee's Restaurant &amp; Concert Venue</td>\n",
       "      <td>43.656349</td>\n",
       "      <td>-79.407646</td>\n",
       "      <td>407</td>\n",
       "    </tr>\n",
       "    <tr>\n",
       "      <th>0</th>\n",
       "      <td>Seven Lives - Tacos y Mariscos</td>\n",
       "      <td>43.654418</td>\n",
       "      <td>-79.400545</td>\n",
       "      <td>302</td>\n",
       "    </tr>\n",
       "    <tr>\n",
       "      <th>46</th>\n",
       "      <td>Bar Raval</td>\n",
       "      <td>43.655904</td>\n",
       "      <td>-79.410125</td>\n",
       "      <td>266</td>\n",
       "    </tr>\n",
       "  </tbody>\n",
       "</table>\n",
       "</div>"
      ],
      "text/plain": [
       "                                       name        lat       long  likes\n",
       "8   Sneaky Dee's Restaurant & Concert Venue  43.656349 -79.407646    407\n",
       "0            Seven Lives - Tacos y Mariscos  43.654418 -79.400545    302\n",
       "46                                Bar Raval  43.655904 -79.410125    266"
      ]
     },
     "execution_count": 109,
     "metadata": {},
     "output_type": "execute_result"
    }
   ],
   "source": [
    "POIs_df.head(3)"
   ]
  },
  {
   "cell_type": "code",
   "execution_count": 110,
   "metadata": {},
   "outputs": [
    {
     "data": {
      "text/plain": [
       "<sqlite3.Cursor at 0x26f0fdac8f0>"
      ]
     },
     "execution_count": 110,
     "metadata": {},
     "output_type": "execute_result"
    }
   ],
   "source": [
    "c.execute(\"\"\"CREATE TABLE Foursquare_Overview (\n",
    "            id PRIMARY KEY,\n",
    "            name varchar(255),\n",
    "            lat decimal(18,2),\n",
    "            long decimal(18,2),\n",
    "            likes INT)\"\"\")"
   ]
  },
  {
   "cell_type": "code",
   "execution_count": 112,
   "metadata": {},
   "outputs": [],
   "source": [
    "POIs_df.to_sql('Foursquare_Overview', conn, if_exists='replace', index = False)"
   ]
  },
  {
   "cell_type": "code",
   "execution_count": 113,
   "metadata": {},
   "outputs": [
    {
     "name": "stdout",
     "output_type": "stream",
     "text": [
      "(\"Sneaky Dee's Restaurant & Concert Venue\", 43.65634906243686, -79.40764590401695, 407)\n",
      "('Seven Lives - Tacos y Mariscos', 43.65441817160925, -79.40054467846261, 302)\n",
      "('Bar Raval', 43.65590380020168, -79.41012528837247, 266)\n",
      "('Horseshoe Tavern', 43.6493390929762, -79.3959763512841, 223)\n",
      "(\"Jimmy's Coffee\", 43.65449315540114, -79.40131090393002, 200)\n",
      "('416 Snack Bar', 43.64751101216232, -79.40401784574094, 187)\n",
      "('Tequila Bookworm', 43.64769690944723, -79.40154896874483, 184)\n",
      "('Isshin Ramen 一心', 43.65651655724417, -79.40694540739058, 179)\n",
      "('Cold Tea', 43.65419313416817, -79.40107491108753, 162)\n",
      "('Sin and Redemption', 43.65466135819523, -79.39173728227614, 153)\n"
     ]
    }
   ],
   "source": [
    "c.execute(''' SELECT * FROM Foursquare_Overview LIMIT 10''')\n",
    "for row in c.fetchall():\n",
    "     print (row)"
   ]
  },
  {
   "cell_type": "code",
   "execution_count": 117,
   "metadata": {},
   "outputs": [
    {
     "data": {
      "text/html": [
       "<div>\n",
       "<style scoped>\n",
       "    .dataframe tbody tr th:only-of-type {\n",
       "        vertical-align: middle;\n",
       "    }\n",
       "\n",
       "    .dataframe tbody tr th {\n",
       "        vertical-align: top;\n",
       "    }\n",
       "\n",
       "    .dataframe thead th {\n",
       "        text-align: right;\n",
       "    }\n",
       "</style>\n",
       "<table border=\"1\" class=\"dataframe\">\n",
       "  <thead>\n",
       "    <tr style=\"text-align: right;\">\n",
       "      <th></th>\n",
       "      <th>name</th>\n",
       "      <th>lat</th>\n",
       "      <th>long</th>\n",
       "      <th>likes</th>\n",
       "    </tr>\n",
       "  </thead>\n",
       "  <tbody>\n",
       "    <tr>\n",
       "      <th>8</th>\n",
       "      <td>Sneaky Dee's Restaurant &amp; Concert Venue</td>\n",
       "      <td>43.656349</td>\n",
       "      <td>-79.407646</td>\n",
       "      <td>407</td>\n",
       "    </tr>\n",
       "    <tr>\n",
       "      <th>0</th>\n",
       "      <td>Seven Lives - Tacos y Mariscos</td>\n",
       "      <td>43.654418</td>\n",
       "      <td>-79.400545</td>\n",
       "      <td>302</td>\n",
       "    </tr>\n",
       "    <tr>\n",
       "      <th>46</th>\n",
       "      <td>Bar Raval</td>\n",
       "      <td>43.655904</td>\n",
       "      <td>-79.410125</td>\n",
       "      <td>266</td>\n",
       "    </tr>\n",
       "    <tr>\n",
       "      <th>31</th>\n",
       "      <td>Horseshoe Tavern</td>\n",
       "      <td>43.649339</td>\n",
       "      <td>-79.395976</td>\n",
       "      <td>223</td>\n",
       "    </tr>\n",
       "    <tr>\n",
       "      <th>9</th>\n",
       "      <td>Jimmy's Coffee</td>\n",
       "      <td>43.654493</td>\n",
       "      <td>-79.401311</td>\n",
       "      <td>200</td>\n",
       "    </tr>\n",
       "    <tr>\n",
       "      <th>29</th>\n",
       "      <td>416 Snack Bar</td>\n",
       "      <td>43.647511</td>\n",
       "      <td>-79.404018</td>\n",
       "      <td>187</td>\n",
       "    </tr>\n",
       "    <tr>\n",
       "      <th>19</th>\n",
       "      <td>Tequila Bookworm</td>\n",
       "      <td>43.647697</td>\n",
       "      <td>-79.401549</td>\n",
       "      <td>184</td>\n",
       "    </tr>\n",
       "    <tr>\n",
       "      <th>24</th>\n",
       "      <td>Isshin Ramen 一心</td>\n",
       "      <td>43.656517</td>\n",
       "      <td>-79.406945</td>\n",
       "      <td>179</td>\n",
       "    </tr>\n",
       "    <tr>\n",
       "      <th>1</th>\n",
       "      <td>Cold Tea</td>\n",
       "      <td>43.654193</td>\n",
       "      <td>-79.401075</td>\n",
       "      <td>162</td>\n",
       "    </tr>\n",
       "    <tr>\n",
       "      <th>44</th>\n",
       "      <td>Sin and Redemption</td>\n",
       "      <td>43.654661</td>\n",
       "      <td>-79.391737</td>\n",
       "      <td>153</td>\n",
       "    </tr>\n",
       "  </tbody>\n",
       "</table>\n",
       "</div>"
      ],
      "text/plain": [
       "                                       name        lat       long  likes\n",
       "8   Sneaky Dee's Restaurant & Concert Venue  43.656349 -79.407646    407\n",
       "0            Seven Lives - Tacos y Mariscos  43.654418 -79.400545    302\n",
       "46                                Bar Raval  43.655904 -79.410125    266\n",
       "31                         Horseshoe Tavern  43.649339 -79.395976    223\n",
       "9                            Jimmy's Coffee  43.654493 -79.401311    200\n",
       "29                            416 Snack Bar  43.647511 -79.404018    187\n",
       "19                         Tequila Bookworm  43.647697 -79.401549    184\n",
       "24                          Isshin Ramen 一心  43.656517 -79.406945    179\n",
       "1                                  Cold Tea  43.654193 -79.401075    162\n",
       "44                       Sin and Redemption  43.654661 -79.391737    153"
      ]
     },
     "execution_count": 117,
     "metadata": {},
     "output_type": "execute_result"
    }
   ],
   "source": [
    "POIs_df.head(10)"
   ]
  },
  {
   "cell_type": "code",
   "execution_count": 119,
   "metadata": {},
   "outputs": [],
   "source": [
    "bars_df['Category'] = 'Nightlife'"
   ]
  },
  {
   "cell_type": "code",
   "execution_count": 120,
   "metadata": {},
   "outputs": [],
   "source": [
    "rests_df['Category'] = 'Food'"
   ]
  },
  {
   "cell_type": "code",
   "execution_count": 121,
   "metadata": {},
   "outputs": [],
   "source": [
    "POIs_df = bars_df.append(rests_df)"
   ]
  },
  {
   "cell_type": "code",
   "execution_count": 131,
   "metadata": {},
   "outputs": [],
   "source": [
    "POIs_df = POIs_df.sort_values('likes', ascending=False)"
   ]
  },
  {
   "cell_type": "code",
   "execution_count": 133,
   "metadata": {},
   "outputs": [
    {
     "data": {
      "text/html": [
       "<div>\n",
       "<style scoped>\n",
       "    .dataframe tbody tr th:only-of-type {\n",
       "        vertical-align: middle;\n",
       "    }\n",
       "\n",
       "    .dataframe tbody tr th {\n",
       "        vertical-align: top;\n",
       "    }\n",
       "\n",
       "    .dataframe thead th {\n",
       "        text-align: right;\n",
       "    }\n",
       "</style>\n",
       "<table border=\"1\" class=\"dataframe\">\n",
       "  <thead>\n",
       "    <tr style=\"text-align: right;\">\n",
       "      <th></th>\n",
       "      <th>name</th>\n",
       "      <th>lat</th>\n",
       "      <th>long</th>\n",
       "      <th>likes</th>\n",
       "      <th>Category</th>\n",
       "    </tr>\n",
       "  </thead>\n",
       "  <tbody>\n",
       "    <tr>\n",
       "      <th>8</th>\n",
       "      <td>Sneaky Dee's Restaurant &amp; Concert Venue</td>\n",
       "      <td>43.656349</td>\n",
       "      <td>-79.407646</td>\n",
       "      <td>407</td>\n",
       "      <td>Nightlife</td>\n",
       "    </tr>\n",
       "    <tr>\n",
       "      <th>0</th>\n",
       "      <td>Seven Lives - Tacos y Mariscos</td>\n",
       "      <td>43.654418</td>\n",
       "      <td>-79.400545</td>\n",
       "      <td>302</td>\n",
       "      <td>Food</td>\n",
       "    </tr>\n",
       "    <tr>\n",
       "      <th>46</th>\n",
       "      <td>Bar Raval</td>\n",
       "      <td>43.655904</td>\n",
       "      <td>-79.410125</td>\n",
       "      <td>266</td>\n",
       "      <td>Food</td>\n",
       "    </tr>\n",
       "    <tr>\n",
       "      <th>31</th>\n",
       "      <td>Horseshoe Tavern</td>\n",
       "      <td>43.649339</td>\n",
       "      <td>-79.395976</td>\n",
       "      <td>223</td>\n",
       "      <td>Nightlife</td>\n",
       "    </tr>\n",
       "    <tr>\n",
       "      <th>9</th>\n",
       "      <td>Jimmy's Coffee</td>\n",
       "      <td>43.654493</td>\n",
       "      <td>-79.401311</td>\n",
       "      <td>200</td>\n",
       "      <td>Food</td>\n",
       "    </tr>\n",
       "    <tr>\n",
       "      <th>29</th>\n",
       "      <td>416 Snack Bar</td>\n",
       "      <td>43.647511</td>\n",
       "      <td>-79.404018</td>\n",
       "      <td>187</td>\n",
       "      <td>Nightlife</td>\n",
       "    </tr>\n",
       "    <tr>\n",
       "      <th>19</th>\n",
       "      <td>Tequila Bookworm</td>\n",
       "      <td>43.647697</td>\n",
       "      <td>-79.401549</td>\n",
       "      <td>184</td>\n",
       "      <td>Nightlife</td>\n",
       "    </tr>\n",
       "    <tr>\n",
       "      <th>24</th>\n",
       "      <td>Isshin Ramen 一心</td>\n",
       "      <td>43.656517</td>\n",
       "      <td>-79.406945</td>\n",
       "      <td>179</td>\n",
       "      <td>Food</td>\n",
       "    </tr>\n",
       "    <tr>\n",
       "      <th>1</th>\n",
       "      <td>Cold Tea</td>\n",
       "      <td>43.654193</td>\n",
       "      <td>-79.401075</td>\n",
       "      <td>162</td>\n",
       "      <td>Nightlife</td>\n",
       "    </tr>\n",
       "    <tr>\n",
       "      <th>28</th>\n",
       "      <td>Bar Hop Brewco</td>\n",
       "      <td>43.649069</td>\n",
       "      <td>-79.393456</td>\n",
       "      <td>153</td>\n",
       "      <td>Nightlife</td>\n",
       "    </tr>\n",
       "  </tbody>\n",
       "</table>\n",
       "</div>"
      ],
      "text/plain": [
       "                                       name        lat       long  likes  \\\n",
       "8   Sneaky Dee's Restaurant & Concert Venue  43.656349 -79.407646    407   \n",
       "0            Seven Lives - Tacos y Mariscos  43.654418 -79.400545    302   \n",
       "46                                Bar Raval  43.655904 -79.410125    266   \n",
       "31                         Horseshoe Tavern  43.649339 -79.395976    223   \n",
       "9                            Jimmy's Coffee  43.654493 -79.401311    200   \n",
       "29                            416 Snack Bar  43.647511 -79.404018    187   \n",
       "19                         Tequila Bookworm  43.647697 -79.401549    184   \n",
       "24                          Isshin Ramen 一心  43.656517 -79.406945    179   \n",
       "1                                  Cold Tea  43.654193 -79.401075    162   \n",
       "28                           Bar Hop Brewco  43.649069 -79.393456    153   \n",
       "\n",
       "     Category  \n",
       "8   Nightlife  \n",
       "0        Food  \n",
       "46       Food  \n",
       "31  Nightlife  \n",
       "9        Food  \n",
       "29  Nightlife  \n",
       "19  Nightlife  \n",
       "24       Food  \n",
       "1   Nightlife  \n",
       "28  Nightlife  "
      ]
     },
     "execution_count": 133,
     "metadata": {},
     "output_type": "execute_result"
    }
   ],
   "source": [
    "POIs_df.head(10)"
   ]
  },
  {
   "cell_type": "code",
   "execution_count": 134,
   "metadata": {},
   "outputs": [
    {
     "name": "stdout",
     "output_type": "stream",
     "text": [
      "(\"Sneaky Dee's Restaurant & Concert Venue\", 43.65634906243686, -79.40764590401695, 407, 'Nightlife')\n",
      "('Seven Lives - Tacos y Mariscos', 43.65441817160925, -79.40054467846261, 302, 'Food')\n",
      "('Bar Raval', 43.65590380020168, -79.41012528837247, 266, 'Food')\n",
      "('Horseshoe Tavern', 43.6493390929762, -79.3959763512841, 223, 'Nightlife')\n",
      "(\"Jimmy's Coffee\", 43.65449315540114, -79.40131090393002, 200, 'Food')\n",
      "('416 Snack Bar', 43.64751101216232, -79.40401784574094, 187, 'Nightlife')\n",
      "('Tequila Bookworm', 43.64769690944723, -79.40154896874483, 184, 'Nightlife')\n",
      "('Isshin Ramen 一心', 43.65651655724417, -79.40694540739058, 179, 'Food')\n",
      "('Cold Tea', 43.65419313416817, -79.40107491108753, 162, 'Nightlife')\n",
      "('Bar Hop Brewco', 43.649068842850404, -79.39345567330301, 153, 'Nightlife')\n"
     ]
    }
   ],
   "source": [
    "c.execute('DROP TABLE Foursquare_Overview')\n",
    "POIs_df.to_sql('Foursquare_Overview', conn, if_exists='replace', index = False)\n",
    "c.execute(''' SELECT * FROM Foursquare_Overview LIMIT 10''')\n",
    "for row in c.fetchall():\n",
    "     print (row)"
   ]
  },
  {
   "cell_type": "code",
   "execution_count": null,
   "metadata": {},
   "outputs": [],
   "source": [
    "OIU===="
   ]
  }
 ],
 "metadata": {
  "kernelspec": {
   "display_name": "Python 3",
   "language": "python",
   "name": "python3"
  },
  "language_info": {
   "codemirror_mode": {
    "name": "ipython",
    "version": 3
   },
   "file_extension": ".py",
   "mimetype": "text/x-python",
   "name": "python",
   "nbconvert_exporter": "python",
   "pygments_lexer": "ipython3",
   "version": "3.7.6"
  }
 },
 "nbformat": 4,
 "nbformat_minor": 4
}
